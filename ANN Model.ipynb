{
  "nbformat": 4,
  "nbformat_minor": 0,
  "metadata": {
    "colab": {
      "name": "Untitled2.ipynb",
      "provenance": [],
      "mount_file_id": "1fhcP6FRV3aWoJkXybs0WbS7e6aNWhvoa",
      "authorship_tag": "ABX9TyMy2Qm9jNtZz8GCqy8PeH26"
    },
    "kernelspec": {
      "display_name": "Python 3",
      "name": "python3"
    },
    "language_info": {
      "name": "python"
    }
  },
  "cells": [
    {
      "cell_type": "code",
      "metadata": {
        "id": "TFkWlDqyoDuh"
      },
      "source": [
        " import numpy as np\n",
        "import pandas as pd \n",
        "data=pd.read_csv('/content/drive/MyDrive/water_dataX.csv',encoding=\"ISO-8859-1\")"
      ],
      "execution_count": null,
      "outputs": []
    },
    {
      "cell_type": "code",
      "metadata": {
        "colab": {
          "base_uri": "https://localhost:8080/"
        },
        "id": "w9FZhWXesgjO",
        "outputId": "5b15ff3d-1a18-4c68-899f-18321d929c9b"
      },
      "source": [
        "data['TEMP']=pd.to_numeric(data['TEMP'],errors='coerce')\n",
        "data['DISSOLVEDOXYGEN']=pd.to_numeric(data['DISSOLVEDOXYGEN'],errors='coerce')\n",
        "data['PH']=pd.to_numeric(data['PH'],errors='coerce')\n",
        "data['TURBIDITY']=pd.to_numeric(data['TURBIDITY'],errors='coerce')\n",
        "data['NITRATES']=pd.to_numeric(data['NITRATES'],errors='coerce')\n",
        "data['COLIFORM']=pd.to_numeric(data['COLIFORM'],errors='coerce')\n",
        "data.dtypes"
      ],
      "execution_count": null,
      "outputs": [
        {
          "output_type": "execute_result",
          "data": {
            "text/plain": [
              "TEMP               float64\n",
              "DISSOLVEDOXYGEN    float64\n",
              "PH                 float64\n",
              "TURBIDITY          float64\n",
              "NITRATES           float64\n",
              "COLIFORM           float64\n",
              "dtype: object"
            ]
          },
          "metadata": {
            "tags": []
          },
          "execution_count": 3
        }
      ]
    },
    {
      "cell_type": "code",
      "metadata": {
        "colab": {
          "base_uri": "https://localhost:8080/"
        },
        "id": "-Zhk2CW4s1zX",
        "outputId": "f6867b1a-c0de-41b8-9276-9bb82a7fd147"
      },
      "source": [
        " print(data.isnull().sum())"
      ],
      "execution_count": null,
      "outputs": [
        {
          "output_type": "stream",
          "text": [
            "TEMP                92\n",
            "DISSOLVEDOXYGEN     31\n",
            "PH                   8\n",
            "TURBIDITY           43\n",
            "NITRATES           225\n",
            "COLIFORM           316\n",
            "dtype: int64\n"
          ],
          "name": "stdout"
        }
      ]
    },
    {
      "cell_type": "code",
      "metadata": {
        "colab": {
          "base_uri": "https://localhost:8080/",
          "height": 443
        },
        "id": "A10iRTTus-6_",
        "outputId": "b6c8e2a0-58d9-4122-d617-a70ef5feb7d1"
      },
      "source": [
        "m1=data['TEMP'].mean()\n",
        "m2=data['DISSOLVEDOXYGEN'].mean()\n",
        "m3=data['PH'].mean()\n",
        "m4=data['TURBIDITY'].mean()\n",
        "m5=data['NITRATES'].mean()\n",
        "m6=data['COLIFORM'].mean()\n",
        "data['TEMP'].fillna(value=m1, inplace=True)\n",
        "data['DISSOLVEDOXYGEN'].fillna(value=m2, inplace=True)\n",
        "data['PH'].fillna(value=m3, inplace=True)\n",
        "data['TURBIDITY'].fillna(value=m4, inplace=True)\n",
        "data['NITRATES'].fillna(value=m5, inplace=True)\n",
        "data['COLIFORM'].fillna(value=m6, inplace=True)\n",
        "data"
      ],
      "execution_count": null,
      "outputs": [
        {
          "output_type": "execute_result",
          "data": {
            "text/html": [
              "<div>\n",
              "<style scoped>\n",
              "    .dataframe tbody tr th:only-of-type {\n",
              "        vertical-align: middle;\n",
              "    }\n",
              "\n",
              "    .dataframe tbody tr th {\n",
              "        vertical-align: top;\n",
              "    }\n",
              "\n",
              "    .dataframe thead th {\n",
              "        text-align: right;\n",
              "    }\n",
              "</style>\n",
              "<table border=\"1\" class=\"dataframe\">\n",
              "  <thead>\n",
              "    <tr style=\"text-align: right;\">\n",
              "      <th></th>\n",
              "      <th>TEMP</th>\n",
              "      <th>DISSOLVEDOXYGEN</th>\n",
              "      <th>PH</th>\n",
              "      <th>TURBIDITY</th>\n",
              "      <th>NITRATES</th>\n",
              "      <th>COLIFORM</th>\n",
              "    </tr>\n",
              "  </thead>\n",
              "  <tbody>\n",
              "    <tr>\n",
              "      <th>0</th>\n",
              "      <td>30.600000</td>\n",
              "      <td>6.7</td>\n",
              "      <td>7.5</td>\n",
              "      <td>6.940049</td>\n",
              "      <td>0.100000</td>\n",
              "      <td>11.000000</td>\n",
              "    </tr>\n",
              "    <tr>\n",
              "      <th>1</th>\n",
              "      <td>29.800000</td>\n",
              "      <td>5.7</td>\n",
              "      <td>7.2</td>\n",
              "      <td>2.000000</td>\n",
              "      <td>0.200000</td>\n",
              "      <td>4953.000000</td>\n",
              "    </tr>\n",
              "    <tr>\n",
              "      <th>2</th>\n",
              "      <td>29.500000</td>\n",
              "      <td>6.3</td>\n",
              "      <td>6.9</td>\n",
              "      <td>1.700000</td>\n",
              "      <td>0.100000</td>\n",
              "      <td>3243.000000</td>\n",
              "    </tr>\n",
              "    <tr>\n",
              "      <th>3</th>\n",
              "      <td>29.700000</td>\n",
              "      <td>5.8</td>\n",
              "      <td>6.9</td>\n",
              "      <td>3.800000</td>\n",
              "      <td>0.500000</td>\n",
              "      <td>5382.000000</td>\n",
              "    </tr>\n",
              "    <tr>\n",
              "      <th>4</th>\n",
              "      <td>29.500000</td>\n",
              "      <td>5.8</td>\n",
              "      <td>7.3</td>\n",
              "      <td>1.900000</td>\n",
              "      <td>0.400000</td>\n",
              "      <td>3428.000000</td>\n",
              "    </tr>\n",
              "    <tr>\n",
              "      <th>...</th>\n",
              "      <td>...</td>\n",
              "      <td>...</td>\n",
              "      <td>...</td>\n",
              "      <td>...</td>\n",
              "      <td>...</td>\n",
              "      <td>...</td>\n",
              "    </tr>\n",
              "    <tr>\n",
              "      <th>1986</th>\n",
              "      <td>26.209814</td>\n",
              "      <td>7.9</td>\n",
              "      <td>738.0</td>\n",
              "      <td>2.700000</td>\n",
              "      <td>0.518000</td>\n",
              "      <td>0.518000</td>\n",
              "    </tr>\n",
              "    <tr>\n",
              "      <th>1987</th>\n",
              "      <td>29.000000</td>\n",
              "      <td>7.5</td>\n",
              "      <td>585.0</td>\n",
              "      <td>2.600000</td>\n",
              "      <td>0.155000</td>\n",
              "      <td>0.155000</td>\n",
              "    </tr>\n",
              "    <tr>\n",
              "      <th>1988</th>\n",
              "      <td>28.000000</td>\n",
              "      <td>7.6</td>\n",
              "      <td>98.0</td>\n",
              "      <td>1.200000</td>\n",
              "      <td>1.623079</td>\n",
              "      <td>1747.043889</td>\n",
              "    </tr>\n",
              "    <tr>\n",
              "      <th>1989</th>\n",
              "      <td>28.000000</td>\n",
              "      <td>7.7</td>\n",
              "      <td>91.0</td>\n",
              "      <td>1.300000</td>\n",
              "      <td>1.623079</td>\n",
              "      <td>1747.043889</td>\n",
              "    </tr>\n",
              "    <tr>\n",
              "      <th>1990</th>\n",
              "      <td>29.000000</td>\n",
              "      <td>7.6</td>\n",
              "      <td>110.0</td>\n",
              "      <td>1.100000</td>\n",
              "      <td>1.623079</td>\n",
              "      <td>1747.043889</td>\n",
              "    </tr>\n",
              "  </tbody>\n",
              "</table>\n",
              "<p>1991 rows × 6 columns</p>\n",
              "</div>"
            ],
            "text/plain": [
              "           TEMP  DISSOLVEDOXYGEN     PH  TURBIDITY  NITRATES     COLIFORM\n",
              "0     30.600000              6.7    7.5   6.940049  0.100000    11.000000\n",
              "1     29.800000              5.7    7.2   2.000000  0.200000  4953.000000\n",
              "2     29.500000              6.3    6.9   1.700000  0.100000  3243.000000\n",
              "3     29.700000              5.8    6.9   3.800000  0.500000  5382.000000\n",
              "4     29.500000              5.8    7.3   1.900000  0.400000  3428.000000\n",
              "...         ...              ...    ...        ...       ...          ...\n",
              "1986  26.209814              7.9  738.0   2.700000  0.518000     0.518000\n",
              "1987  29.000000              7.5  585.0   2.600000  0.155000     0.155000\n",
              "1988  28.000000              7.6   98.0   1.200000  1.623079  1747.043889\n",
              "1989  28.000000              7.7   91.0   1.300000  1.623079  1747.043889\n",
              "1990  29.000000              7.6  110.0   1.100000  1.623079  1747.043889\n",
              "\n",
              "[1991 rows x 6 columns]"
            ]
          },
          "metadata": {
            "tags": []
          },
          "execution_count": 5
        }
      ]
    },
    {
      "cell_type": "code",
      "metadata": {
        "colab": {
          "base_uri": "https://localhost:8080/"
        },
        "id": "FUQCRQzatKtA",
        "outputId": "e9a06c9c-675d-46a3-9a84-9fa83802449d"
      },
      "source": [
        " print(data.isnull().sum())"
      ],
      "execution_count": null,
      "outputs": [
        {
          "output_type": "stream",
          "text": [
            "TEMP               0\n",
            "DISSOLVEDOXYGEN    0\n",
            "PH                 0\n",
            "TURBIDITY          0\n",
            "NITRATES           0\n",
            "COLIFORM           0\n",
            "dtype: int64\n"
          ],
          "name": "stdout"
        }
      ]
    },
    {
      "cell_type": "code",
      "metadata": {
        "colab": {
          "base_uri": "https://localhost:8080/",
          "height": 188
        },
        "id": "_4stBceUy3lr",
        "outputId": "c21ea009-47ff-4ac4-c8d2-782b8b6d1eb6"
      },
      "source": [
        " import matplotlib.pyplot as plt\n",
        " \n",
        "box_plot_data=[data['TEMP'],data['DISSOLVEDOXYGEN'],data['PH'],data['TURBIDITY'],data['NITRATES'],data['COLIFORM']]\n",
        " \n",
        "plt.boxplot(box_plot_data,patch_artist=True,labels=['temp','do','ph','turbidity','nitrates','coliform'])\n",
        " \n",
        "plt.show()"
      ],
      "execution_count": null,
      "outputs": [
        {
          "output_type": "display_data",
          "data": {
            "image/png": "[encoded data removed]",
            "text/plain": [
              "<Figure size 432x288 with 1 Axes>"
            ]
          },
          "metadata": {
            "tags": [],
            "needs_background": "light"
          }
        }
      ]
    },
    {
      "cell_type": "code",
      "metadata": {
        "id": "Ow0k6kPfzI-w"
      },
      "source": [
        " data['TEMP']=data.TEMP.apply(lambda x:(56 if  (x<-10) \n",
        "                                       else(63 if  (-7.5>=x>=-10)\n",
        "                                      else(73 if (-5>=x>-7.5)\n",
        "                                          else(85 if (-2.5>=x>-5)\n",
        "                                               else(90 if (-1>=x>-2.5)\n",
        "                                                    else(93 if (0>=x>-1)\n",
        "                                                         else(89 if (1>=x>0)\n",
        "                                                              else(85 if (2.5>=x>1)\n",
        "                                                                   else(72 if (5>=x>2.5)\n",
        "                                                                        else(57 if (7.5>=x>5)\n",
        "                                                                             else(44 if (10>=x>7.5)\n",
        "                                                                                  else(36 if (12.5>=x>10)\n",
        "                                                                                       else(28 if (15>=x>12.5)\n",
        "                                                                                            else(23 if (17.5>=x>15)\n",
        "                                                                                                 else(21 if (20>=x>17.5)\n",
        "                                                                                                      else(18 if (22.5>=x>20)\n",
        "                                                                                                           else(15 if (25>=x>22.5)\n",
        "                                                                                                                else(12 if (27.5>=x>25)\n",
        "                                                                                                                     #else(10 if (30>=x>27.5)\n",
        "                                                                                                                         else 30)))))))))))))))))))"
      ],
      "execution_count": null,
      "outputs": []
    },
    {
      "cell_type": "code",
      "metadata": {
        "id": "2kAFTW_azRHJ"
      },
      "source": [
        " data['PH']=data.PH.apply(lambda x:(0 if (x<2) \n",
        "                                      else(2 if (x==2)\n",
        "                                          else(4 if (3>=x>2)\n",
        "                                               else(8 if (4>=x>3)\n",
        "                                                    else(24 if (5>=x>4)\n",
        "                                                         else(55 if (6>=x>5)\n",
        "                                                              else(90 if (7>=x>6)\n",
        "                                                                   else(92 if (7.2>=x>7)\n",
        "                                                                        else(93 if (7.5>=x>7.2)\n",
        "                                                                             else(90 if (7.7>=x>7.5)\n",
        "                                                                                  else(82 if (8>=x>7.7)\n",
        "                                                                                       else(67 if (8.5>=x>8)\n",
        "                                                                                            else(47 if (9>=x>8.5)\n",
        "                                                                                                 else(19 if (10>=x>9)\n",
        "                                                                                                      else(7 if (11>=x>10)\n",
        "                                                                                                           else(2 if (12>=x>11)\n",
        "                                                                                                                else(0 if (x>12)\n",
        "                                                                                                                    else 0))))))))))))))))))"
      ],
      "execution_count": null,
      "outputs": []
    },
    {
      "cell_type": "code",
      "metadata": {
        "id": "en1f8JZSzdIL"
      },
      "source": [
        " data['TURBIDITY']=data.TURBIDITY.apply(lambda x:(97 if (x<=0)\n",
        "                            \n",
        "                                      else(84 if (5>=x>0)\n",
        "                                          else(76 if (10>=x>5)\n",
        "                                               else(70 if (x<15)\n",
        "                                                    else(68 if (x==15)\n",
        "                                                         else(62 if (20>=x>15)\n",
        "                                                              else(57 if (25>=x>20)\n",
        "                                                                   else(53 if (30>=x>25)\n",
        "                                                                        else(48 if (35>=x>30)\n",
        "                                                                             else(45 if (40>=x>35)\n",
        "                                                                                  else(39 if (50>=x>40)\n",
        "                                                                                       else(34 if (60>=x>50)\n",
        "                                                                                            else(28 if (70>=x>60)\n",
        "                                                                                                 else(25 if (80>=x>70)\n",
        "                                                                                                      else(22 if (90>=x>80)\n",
        "                                                                                                           else(17 if (100>=x>90)\n",
        "                                                                                                               # else(5 if (x>100)\n",
        "                                                                                                                    else 5)))))))))))))))))"
      ],
      "execution_count": null,
      "outputs": []
    },
    {
      "cell_type": "code",
      "metadata": {
        "id": "8_DVxcSfzijy"
      },
      "source": [
        " data['NITRATES']=data.NITRATES.apply(lambda x:(98 if (x<=0) \n",
        "                                      else(97 if (0.25>=x>0)\n",
        "                                          else(96 if (0.5>=x>0.25)\n",
        "                                               else(95 if (0.75>=x>0.5)\n",
        "                                                    else(94 if (1>=x>0.75)\n",
        "                                                         else(92 if (1.5>=x>1)\n",
        "                                                              else(90 if (2>=x>1.5)\n",
        "                                                                   else(85 if (3>=x>2)\n",
        "                                                                        else(70 if (4>=x>3)\n",
        "                                                                             else(65 if (5>=x>4)\n",
        "                                                                                  else(51 if (10>=x>5)\n",
        "                                                                                       else(43 if (15>=x>10)\n",
        "                                                                                            else(37 if (20>=x>15)\n",
        "                                                                                                 else(24 if (30>=x>20)\n",
        "                                                                                                      else(17 if (40>=x>30)\n",
        "                                                                                                           else(7 if (50>=x>40)\n",
        "                                                                                                                else(5 if (60>=x>50)\n",
        "                                                                                                                     else(4 if (70>=x>60)\n",
        "                                                                                                                          else(3 if (80>=x>70)\n",
        "                                                                                                                               else(2 if (90>=x>80)\n",
        "                                                                                                                                    else(1 if (x==100)\n",
        "                                                                                                                                         #else(1 if (x>100)\n",
        "                                                                                                                                              else 1))))))))))))))))))))))"
      ],
      "execution_count": null,
      "outputs": []
    },
    {
      "cell_type": "code",
      "metadata": {
        "id": "2ywtogvizt4v"
      },
      "source": [
        " data['COLIFORM']=data.COLIFORM.apply(lambda x:(98 if (1>=x>0) \n",
        "                                      else(89 if (2>=x>1)\n",
        "                                          else(80 if (5>=x>2)\n",
        "                                               else(71 if (10>=x>5)\n",
        "                                                    else(63 if (20>=x>10)\n",
        "                                                         else(53 if (50>=x>20)\n",
        "                                                              else(45 if (100>=x>50)\n",
        "                                                                   else(37 if (200>=x>100)\n",
        "                                                                        else(27 if (500>=x>200)\n",
        "                                                                             else(22 if (1000>=x>500)\n",
        "                                                                                  else(18 if (2000>=x>1000)\n",
        "                                                                                       else(13 if (5000>=x>2000)\n",
        "                                                                                            else(10 if (10000>=x>5000)\n",
        "                                                                                                 else(8 if (20000>=x>10000)\n",
        "                                                                                                      else(5 if (50000>=x>20000)\n",
        "                                                                                                           else(3 if (100000>=x>50000)\n",
        "                                                                                                                #else(2 if (x>100000)\n",
        "                                                                                                                    else 2)))))))))))))))))"
      ],
      "execution_count": null,
      "outputs": []
    },
    {
      "cell_type": "code",
      "metadata": {
        "id": "xHl-NZvQz0F-"
      },
      "source": [
        " data['DISSOLVEDOXYGEN']=data.DISSOLVEDOXYGEN.apply(lambda x:(0 if  (x<=0) \n",
        "                                                                else(8 if (10>=x>0)\n",
        "                                                                    else(13 if (20>=x>10)\n",
        "                                                                       else(20 if (30>=x>20)\n",
        "                                                                            else(30 if (40>=x>30)\n",
        "                                                                                 else(43 if (50>=x>40)\n",
        "                                                                                      else(56 if (60>=x>50)\n",
        "                                                                                           else(77 if (70>=x>60)\n",
        "                                                                                                else(88 if (80>=x>70)\n",
        "                                                                                                     else(92 if (85>=x>80)\n",
        "                                                                                                          else(95 if (90>=x>85)\n",
        "                                                                                                               else(97.5 if (95>=x>90)\n",
        "                                                                                                                    else(99 if (100>=x>95)\n",
        "                                                                                                                         else(98 if (105>=x>100)\n",
        "                                                                                                                              else(95 if (110>=x>105)\n",
        "                                                                                                                                   else(90 if (120>=x>110)\n",
        "                                                                                                                                        else(85 if (130>=x>120)\n",
        "                                                                                                                                             else(78 if (140>=x>130)\n",
        "                                                                                                                                                 #else(50 if (x>140)\n",
        "                                                                                                                                                     else 140)))))))))))))))))))"
      ],
      "execution_count": null,
      "outputs": []
    },
    {
      "cell_type": "code",
      "metadata": {
        "colab": {
          "base_uri": "https://localhost:8080/",
          "height": 443
        },
        "id": "dnUYDJ8A0LVh",
        "outputId": "72ebb52b-8d70-4415-b299-3de4a33937d5"
      },
      "source": [
        " data"
      ],
      "execution_count": null,
      "outputs": [
        {
          "output_type": "execute_result",
          "data": {
            "text/html": [
              "<div>\n",
              "<style scoped>\n",
              "    .dataframe tbody tr th:only-of-type {\n",
              "        vertical-align: middle;\n",
              "    }\n",
              "\n",
              "    .dataframe tbody tr th {\n",
              "        vertical-align: top;\n",
              "    }\n",
              "\n",
              "    .dataframe thead th {\n",
              "        text-align: right;\n",
              "    }\n",
              "</style>\n",
              "<table border=\"1\" class=\"dataframe\">\n",
              "  <thead>\n",
              "    <tr style=\"text-align: right;\">\n",
              "      <th></th>\n",
              "      <th>TEMP</th>\n",
              "      <th>DISSOLVEDOXYGEN</th>\n",
              "      <th>PH</th>\n",
              "      <th>TURBIDITY</th>\n",
              "      <th>NITRATES</th>\n",
              "      <th>COLIFORM</th>\n",
              "    </tr>\n",
              "  </thead>\n",
              "  <tbody>\n",
              "    <tr>\n",
              "      <th>0</th>\n",
              "      <td>30</td>\n",
              "      <td>8</td>\n",
              "      <td>93</td>\n",
              "      <td>76</td>\n",
              "      <td>97</td>\n",
              "      <td>63</td>\n",
              "    </tr>\n",
              "    <tr>\n",
              "      <th>1</th>\n",
              "      <td>30</td>\n",
              "      <td>8</td>\n",
              "      <td>92</td>\n",
              "      <td>84</td>\n",
              "      <td>97</td>\n",
              "      <td>13</td>\n",
              "    </tr>\n",
              "    <tr>\n",
              "      <th>2</th>\n",
              "      <td>30</td>\n",
              "      <td>8</td>\n",
              "      <td>90</td>\n",
              "      <td>84</td>\n",
              "      <td>97</td>\n",
              "      <td>13</td>\n",
              "    </tr>\n",
              "    <tr>\n",
              "      <th>3</th>\n",
              "      <td>30</td>\n",
              "      <td>8</td>\n",
              "      <td>90</td>\n",
              "      <td>84</td>\n",
              "      <td>96</td>\n",
              "      <td>10</td>\n",
              "    </tr>\n",
              "    <tr>\n",
              "      <th>4</th>\n",
              "      <td>30</td>\n",
              "      <td>8</td>\n",
              "      <td>93</td>\n",
              "      <td>84</td>\n",
              "      <td>96</td>\n",
              "      <td>13</td>\n",
              "    </tr>\n",
              "    <tr>\n",
              "      <th>...</th>\n",
              "      <td>...</td>\n",
              "      <td>...</td>\n",
              "      <td>...</td>\n",
              "      <td>...</td>\n",
              "      <td>...</td>\n",
              "      <td>...</td>\n",
              "    </tr>\n",
              "    <tr>\n",
              "      <th>1986</th>\n",
              "      <td>12</td>\n",
              "      <td>8</td>\n",
              "      <td>0</td>\n",
              "      <td>84</td>\n",
              "      <td>95</td>\n",
              "      <td>98</td>\n",
              "    </tr>\n",
              "    <tr>\n",
              "      <th>1987</th>\n",
              "      <td>30</td>\n",
              "      <td>8</td>\n",
              "      <td>0</td>\n",
              "      <td>84</td>\n",
              "      <td>97</td>\n",
              "      <td>98</td>\n",
              "    </tr>\n",
              "    <tr>\n",
              "      <th>1988</th>\n",
              "      <td>30</td>\n",
              "      <td>8</td>\n",
              "      <td>0</td>\n",
              "      <td>84</td>\n",
              "      <td>90</td>\n",
              "      <td>18</td>\n",
              "    </tr>\n",
              "    <tr>\n",
              "      <th>1989</th>\n",
              "      <td>30</td>\n",
              "      <td>8</td>\n",
              "      <td>0</td>\n",
              "      <td>84</td>\n",
              "      <td>90</td>\n",
              "      <td>18</td>\n",
              "    </tr>\n",
              "    <tr>\n",
              "      <th>1990</th>\n",
              "      <td>30</td>\n",
              "      <td>8</td>\n",
              "      <td>0</td>\n",
              "      <td>84</td>\n",
              "      <td>90</td>\n",
              "      <td>18</td>\n",
              "    </tr>\n",
              "  </tbody>\n",
              "</table>\n",
              "<p>1991 rows × 6 columns</p>\n",
              "</div>"
            ],
            "text/plain": [
              "      TEMP  DISSOLVEDOXYGEN  PH  TURBIDITY  NITRATES  COLIFORM\n",
              "0       30                8  93         76        97        63\n",
              "1       30                8  92         84        97        13\n",
              "2       30                8  90         84        97        13\n",
              "3       30                8  90         84        96        10\n",
              "4       30                8  93         84        96        13\n",
              "...    ...              ...  ..        ...       ...       ...\n",
              "1986    12                8   0         84        95        98\n",
              "1987    30                8   0         84        97        98\n",
              "1988    30                8   0         84        90        18\n",
              "1989    30                8   0         84        90        18\n",
              "1990    30                8   0         84        90        18\n",
              "\n",
              "[1991 rows x 6 columns]"
            ]
          },
          "metadata": {
            "tags": []
          },
          "execution_count": 14
        }
      ]
    },
    {
      "cell_type": "code",
      "metadata": {
        "id": "gWyo2s4P7NNM",
        "colab": {
          "base_uri": "https://localhost:8080/",
          "height": 196
        },
        "outputId": "5d9ae92f-2048-4246-cf9e-fcd7274f2845"
      },
      "source": [
        " import matplotlib.pyplot as plt\n",
        " \n",
        "box_plot_data=[data['TEMP'],data['DISSOLVEDOXYGEN'],data['PH'],data['TURBIDITY'],data['NITRATES'],data['COLIFORM']]\n",
        " \n",
        "plt.boxplot(box_plot_data,patch_artist=True,labels=['temp','do','ph','turbidity','nitrates','coliform'])\n",
        " \n",
        "plt.show()"
      ],
      "execution_count": null,
      "outputs": [
        {
          "output_type": "display_data",
          "data": {
            "image/png": "[encoded data removed]",
            "text/plain": [
              "<Figure size 432x288 with 1 Axes>"
            ]
          },
          "metadata": {
            "tags": [],
            "needs_background": "light"
          }
        }
      ]
    },
    {
      "cell_type": "code",
      "metadata": {
        "colab": {
          "base_uri": "https://localhost:8080/"
        },
        "id": "jINomeHy8DTZ",
        "outputId": "cbce0293-f639-491c-e8e8-93c66e4a070b"
      },
      "source": [
        " print(data.isnull().sum())"
      ],
      "execution_count": null,
      "outputs": [
        {
          "output_type": "stream",
          "text": [
            "TEMP               0\n",
            "DISSOLVEDOXYGEN    0\n",
            "PH                 0\n",
            "TURBIDITY          0\n",
            "NITRATES           0\n",
            "COLIFORM           0\n",
            "dtype: int64\n"
          ],
          "name": "stdout"
        }
      ]
    },
    {
      "cell_type": "code",
      "metadata": {
        "colab": {
          "base_uri": "https://localhost:8080/",
          "height": 599
        },
        "id": "F3eQR84z8MdC",
        "outputId": "93298c66-2cfd-448e-90c8-8072ca0e2ad9"
      },
      "source": [
        " import scipy.stats as stats\n",
        "z = np.abs(stats.zscore(data))\n",
        "print(z)\n",
        "print(z.max())\n",
        "print(z.min())\n",
        "#print(np.where(z>3))\n",
        "data_f=data[(z<3).all(axis=1)]\n",
        "data_f"
      ],
      "execution_count": null,
      "outputs": [
        {
          "output_type": "stream",
          "text": [
            "[[1.10724563 0.00419803 0.45149438 0.34325963 0.56172289 1.21495465]\n",
            " [1.10724563 0.00419803 0.40442283 0.3517244  0.56172289 0.99306579]\n",
            " [1.10724563 0.00419803 0.31027974 0.3517244  0.56172289 0.99306579]\n",
            " ...\n",
            " [1.10724563 0.00419803 3.92615937 0.3517244  0.0274114  0.77226374]\n",
            " [1.10724563 0.00419803 3.92615937 0.3517244  0.0274114  0.77226374]\n",
            " [1.10724563 0.00419803 3.92615937 0.3517244  0.0274114  0.77226374]]\n",
            "33.43732658281154\n",
            "0.004198032213787001\n"
          ],
          "name": "stdout"
        },
        {
          "output_type": "execute_result",
          "data": {
            "text/html": [
              "<div>\n",
              "<style scoped>\n",
              "    .dataframe tbody tr th:only-of-type {\n",
              "        vertical-align: middle;\n",
              "    }\n",
              "\n",
              "    .dataframe tbody tr th {\n",
              "        vertical-align: top;\n",
              "    }\n",
              "\n",
              "    .dataframe thead th {\n",
              "        text-align: right;\n",
              "    }\n",
              "</style>\n",
              "<table border=\"1\" class=\"dataframe\">\n",
              "  <thead>\n",
              "    <tr style=\"text-align: right;\">\n",
              "      <th></th>\n",
              "      <th>TEMP</th>\n",
              "      <th>DISSOLVEDOXYGEN</th>\n",
              "      <th>PH</th>\n",
              "      <th>TURBIDITY</th>\n",
              "      <th>NITRATES</th>\n",
              "      <th>COLIFORM</th>\n",
              "    </tr>\n",
              "  </thead>\n",
              "  <tbody>\n",
              "    <tr>\n",
              "      <th>0</th>\n",
              "      <td>30</td>\n",
              "      <td>8</td>\n",
              "      <td>93</td>\n",
              "      <td>76</td>\n",
              "      <td>97</td>\n",
              "      <td>63</td>\n",
              "    </tr>\n",
              "    <tr>\n",
              "      <th>1</th>\n",
              "      <td>30</td>\n",
              "      <td>8</td>\n",
              "      <td>92</td>\n",
              "      <td>84</td>\n",
              "      <td>97</td>\n",
              "      <td>13</td>\n",
              "    </tr>\n",
              "    <tr>\n",
              "      <th>2</th>\n",
              "      <td>30</td>\n",
              "      <td>8</td>\n",
              "      <td>90</td>\n",
              "      <td>84</td>\n",
              "      <td>97</td>\n",
              "      <td>13</td>\n",
              "    </tr>\n",
              "    <tr>\n",
              "      <th>3</th>\n",
              "      <td>30</td>\n",
              "      <td>8</td>\n",
              "      <td>90</td>\n",
              "      <td>84</td>\n",
              "      <td>96</td>\n",
              "      <td>10</td>\n",
              "    </tr>\n",
              "    <tr>\n",
              "      <th>4</th>\n",
              "      <td>30</td>\n",
              "      <td>8</td>\n",
              "      <td>93</td>\n",
              "      <td>84</td>\n",
              "      <td>96</td>\n",
              "      <td>13</td>\n",
              "    </tr>\n",
              "    <tr>\n",
              "      <th>...</th>\n",
              "      <td>...</td>\n",
              "      <td>...</td>\n",
              "      <td>...</td>\n",
              "      <td>...</td>\n",
              "      <td>...</td>\n",
              "      <td>...</td>\n",
              "    </tr>\n",
              "    <tr>\n",
              "      <th>1896</th>\n",
              "      <td>12</td>\n",
              "      <td>8</td>\n",
              "      <td>82</td>\n",
              "      <td>84</td>\n",
              "      <td>96</td>\n",
              "      <td>53</td>\n",
              "    </tr>\n",
              "    <tr>\n",
              "      <th>1897</th>\n",
              "      <td>30</td>\n",
              "      <td>8</td>\n",
              "      <td>93</td>\n",
              "      <td>84</td>\n",
              "      <td>96</td>\n",
              "      <td>37</td>\n",
              "    </tr>\n",
              "    <tr>\n",
              "      <th>1898</th>\n",
              "      <td>30</td>\n",
              "      <td>8</td>\n",
              "      <td>92</td>\n",
              "      <td>84</td>\n",
              "      <td>90</td>\n",
              "      <td>27</td>\n",
              "    </tr>\n",
              "    <tr>\n",
              "      <th>1899</th>\n",
              "      <td>30</td>\n",
              "      <td>8</td>\n",
              "      <td>93</td>\n",
              "      <td>84</td>\n",
              "      <td>97</td>\n",
              "      <td>27</td>\n",
              "    </tr>\n",
              "    <tr>\n",
              "      <th>1900</th>\n",
              "      <td>30</td>\n",
              "      <td>8</td>\n",
              "      <td>93</td>\n",
              "      <td>84</td>\n",
              "      <td>97</td>\n",
              "      <td>22</td>\n",
              "    </tr>\n",
              "  </tbody>\n",
              "</table>\n",
              "<p>1784 rows × 6 columns</p>\n",
              "</div>"
            ],
            "text/plain": [
              "      TEMP  DISSOLVEDOXYGEN  PH  TURBIDITY  NITRATES  COLIFORM\n",
              "0       30                8  93         76        97        63\n",
              "1       30                8  92         84        97        13\n",
              "2       30                8  90         84        97        13\n",
              "3       30                8  90         84        96        10\n",
              "4       30                8  93         84        96        13\n",
              "...    ...              ...  ..        ...       ...       ...\n",
              "1896    12                8  82         84        96        53\n",
              "1897    30                8  93         84        96        37\n",
              "1898    30                8  92         84        90        27\n",
              "1899    30                8  93         84        97        27\n",
              "1900    30                8  93         84        97        22\n",
              "\n",
              "[1784 rows x 6 columns]"
            ]
          },
          "metadata": {
            "tags": []
          },
          "execution_count": 17
        }
      ]
    },
    {
      "cell_type": "code",
      "metadata": {
        "colab": {
          "base_uri": "https://localhost:8080/"
        },
        "id": "gmWKvKPO8X49",
        "outputId": "7698a1ac-3fc0-4f97-b065-beebe0fe87b6"
      },
      "source": [
        " phw=0.11\n",
        "tempw=0.10\n",
        "turbw=0.08\n",
        "dow=0.07\n",
        "nw=0.10\n",
        "fcw=0.16\n",
        "tw=phw+tempw+turbw+dow+nw+fcw\n",
        "#print(tw)\n",
        "phv=(data_f['PH']*phw)/tw\n",
        "tempv=(data_f['TEMP']*tempw)/tw\n",
        "turbv=(data_f['TURBIDITY']*turbw)/tw\n",
        "dov=(data_f['DISSOLVEDOXYGEN']*dow)/tw\n",
        "nv=(data_f['NITRATES']*nw)/tw\n",
        "fcv=(data_f['COLIFORM']*fcw)/tw\n",
        "wqi=phv+tempv+turbv+dov+nv+fcv\n",
        "print(wqi)"
      ],
      "execution_count": null,
      "outputs": [
        {
          "output_type": "stream",
          "text": [
            "0       63.951613\n",
            "1       51.903226\n",
            "2       51.548387\n",
            "3       50.612903\n",
            "4       51.919355\n",
            "          ...    \n",
            "1896    57.387097\n",
            "1897    58.112903\n",
            "1898    54.387097\n",
            "1899    55.693548\n",
            "1900    54.403226\n",
            "Length: 1784, dtype: float64\n"
          ],
          "name": "stdout"
        }
      ]
    },
    {
      "cell_type": "code",
      "metadata": {
        "colab": {
          "base_uri": "https://localhost:8080/",
          "height": 547
        },
        "id": "RsZ1-IgJ8gt2",
        "outputId": "56468167-c67f-40ef-e1b2-1d6a4f3c25c6"
      },
      "source": [
        " data_f['WQI']=wqi\n",
        "data_f"
      ],
      "execution_count": null,
      "outputs": [
        {
          "output_type": "stream",
          "text": [
            "/usr/local/lib/python3.7/dist-packages/ipykernel_launcher.py:1: SettingWithCopyWarning: \n",
            "A value is trying to be set on a copy of a slice from a DataFrame.\n",
            "Try using .loc[row_indexer,col_indexer] = value instead\n",
            "\n",
            "See the caveats in the documentation: https://pandas.pydata.org/pandas-docs/stable/user_guide/indexing.html#returning-a-view-versus-a-copy\n",
            "  \"\"\"Entry point for launching an IPython kernel.\n"
          ],
          "name": "stderr"
        },
        {
          "output_type": "execute_result",
          "data": {
            "text/html": [
              "<div>\n",
              "<style scoped>\n",
              "    .dataframe tbody tr th:only-of-type {\n",
              "        vertical-align: middle;\n",
              "    }\n",
              "\n",
              "    .dataframe tbody tr th {\n",
              "        vertical-align: top;\n",
              "    }\n",
              "\n",
              "    .dataframe thead th {\n",
              "        text-align: right;\n",
              "    }\n",
              "</style>\n",
              "<table border=\"1\" class=\"dataframe\">\n",
              "  <thead>\n",
              "    <tr style=\"text-align: right;\">\n",
              "      <th></th>\n",
              "      <th>TEMP</th>\n",
              "      <th>DISSOLVEDOXYGEN</th>\n",
              "      <th>PH</th>\n",
              "      <th>TURBIDITY</th>\n",
              "      <th>NITRATES</th>\n",
              "      <th>COLIFORM</th>\n",
              "      <th>WQI</th>\n",
              "    </tr>\n",
              "  </thead>\n",
              "  <tbody>\n",
              "    <tr>\n",
              "      <th>0</th>\n",
              "      <td>30</td>\n",
              "      <td>8</td>\n",
              "      <td>93</td>\n",
              "      <td>76</td>\n",
              "      <td>97</td>\n",
              "      <td>63</td>\n",
              "      <td>63.951613</td>\n",
              "    </tr>\n",
              "    <tr>\n",
              "      <th>1</th>\n",
              "      <td>30</td>\n",
              "      <td>8</td>\n",
              "      <td>92</td>\n",
              "      <td>84</td>\n",
              "      <td>97</td>\n",
              "      <td>13</td>\n",
              "      <td>51.903226</td>\n",
              "    </tr>\n",
              "    <tr>\n",
              "      <th>2</th>\n",
              "      <td>30</td>\n",
              "      <td>8</td>\n",
              "      <td>90</td>\n",
              "      <td>84</td>\n",
              "      <td>97</td>\n",
              "      <td>13</td>\n",
              "      <td>51.548387</td>\n",
              "    </tr>\n",
              "    <tr>\n",
              "      <th>3</th>\n",
              "      <td>30</td>\n",
              "      <td>8</td>\n",
              "      <td>90</td>\n",
              "      <td>84</td>\n",
              "      <td>96</td>\n",
              "      <td>10</td>\n",
              "      <td>50.612903</td>\n",
              "    </tr>\n",
              "    <tr>\n",
              "      <th>4</th>\n",
              "      <td>30</td>\n",
              "      <td>8</td>\n",
              "      <td>93</td>\n",
              "      <td>84</td>\n",
              "      <td>96</td>\n",
              "      <td>13</td>\n",
              "      <td>51.919355</td>\n",
              "    </tr>\n",
              "    <tr>\n",
              "      <th>...</th>\n",
              "      <td>...</td>\n",
              "      <td>...</td>\n",
              "      <td>...</td>\n",
              "      <td>...</td>\n",
              "      <td>...</td>\n",
              "      <td>...</td>\n",
              "      <td>...</td>\n",
              "    </tr>\n",
              "    <tr>\n",
              "      <th>1896</th>\n",
              "      <td>12</td>\n",
              "      <td>8</td>\n",
              "      <td>82</td>\n",
              "      <td>84</td>\n",
              "      <td>96</td>\n",
              "      <td>53</td>\n",
              "      <td>57.387097</td>\n",
              "    </tr>\n",
              "    <tr>\n",
              "      <th>1897</th>\n",
              "      <td>30</td>\n",
              "      <td>8</td>\n",
              "      <td>93</td>\n",
              "      <td>84</td>\n",
              "      <td>96</td>\n",
              "      <td>37</td>\n",
              "      <td>58.112903</td>\n",
              "    </tr>\n",
              "    <tr>\n",
              "      <th>1898</th>\n",
              "      <td>30</td>\n",
              "      <td>8</td>\n",
              "      <td>92</td>\n",
              "      <td>84</td>\n",
              "      <td>90</td>\n",
              "      <td>27</td>\n",
              "      <td>54.387097</td>\n",
              "    </tr>\n",
              "    <tr>\n",
              "      <th>1899</th>\n",
              "      <td>30</td>\n",
              "      <td>8</td>\n",
              "      <td>93</td>\n",
              "      <td>84</td>\n",
              "      <td>97</td>\n",
              "      <td>27</td>\n",
              "      <td>55.693548</td>\n",
              "    </tr>\n",
              "    <tr>\n",
              "      <th>1900</th>\n",
              "      <td>30</td>\n",
              "      <td>8</td>\n",
              "      <td>93</td>\n",
              "      <td>84</td>\n",
              "      <td>97</td>\n",
              "      <td>22</td>\n",
              "      <td>54.403226</td>\n",
              "    </tr>\n",
              "  </tbody>\n",
              "</table>\n",
              "<p>1784 rows × 7 columns</p>\n",
              "</div>"
            ],
            "text/plain": [
              "      TEMP  DISSOLVEDOXYGEN  PH  TURBIDITY  NITRATES  COLIFORM        WQI\n",
              "0       30                8  93         76        97        63  63.951613\n",
              "1       30                8  92         84        97        13  51.903226\n",
              "2       30                8  90         84        97        13  51.548387\n",
              "3       30                8  90         84        96        10  50.612903\n",
              "4       30                8  93         84        96        13  51.919355\n",
              "...    ...              ...  ..        ...       ...       ...        ...\n",
              "1896    12                8  82         84        96        53  57.387097\n",
              "1897    30                8  93         84        96        37  58.112903\n",
              "1898    30                8  92         84        90        27  54.387097\n",
              "1899    30                8  93         84        97        27  55.693548\n",
              "1900    30                8  93         84        97        22  54.403226\n",
              "\n",
              "[1784 rows x 7 columns]"
            ]
          },
          "metadata": {
            "tags": []
          },
          "execution_count": 19
        }
      ]
    },
    {
      "cell_type": "code",
      "metadata": {
        "colab": {
          "base_uri": "https://localhost:8080/",
          "height": 196
        },
        "id": "cN0ZRHK28qiW",
        "outputId": "b0d23fb0-79f8-4bb8-ddb7-4b996811352d"
      },
      "source": [
        " import matplotlib.pyplot as plt\n",
        " \n",
        "box_plot_data=[data_f['TEMP'],data_f['DISSOLVEDOXYGEN'],data_f['PH'],data_f['TURBIDITY'],data_f['NITRATES'],data_f['COLIFORM'],data_f['WQI']]\n",
        " \n",
        "plt.boxplot(box_plot_data,patch_artist=True,labels=['temp','do','ph','turbidity','nitrates','coliform','wqi'])\n",
        " \n",
        "plt.show()"
      ],
      "execution_count": null,
      "outputs": [
        {
          "output_type": "display_data",
          "data": {
            "image/png": "[encoded data removed]",
            "text/plain": [
              "<Figure size 432x288 with 1 Axes>"
            ]
          },
          "metadata": {
            "tags": [],
            "needs_background": "light"
          }
        }
      ]
    },
    {
      "cell_type": "code",
      "metadata": {
        "colab": {
          "base_uri": "https://localhost:8080/"
        },
        "id": "x66keUR880n4",
        "outputId": "31bdbc6d-a4f2-4f44-cbfe-87abeb66fb7f"
      },
      "source": [
        " data_f['WQC']=data_f.WQI.apply(lambda x:('VB' if (x<31)  \n",
        "                                 else('B' if  (43>=x>31) \n",
        "                                      else('M' if (62>=x>43)\n",
        "                                          else('G' if (85>x>62)\n",
        "                                               else('EX' if (x>=85) \n",
        "                                                    else 'EX'))))))"
      ],
      "execution_count": null,
      "outputs": [
        {
          "output_type": "stream",
          "text": [
            "/usr/local/lib/python3.7/dist-packages/ipykernel_launcher.py:1: SettingWithCopyWarning: \n",
            "A value is trying to be set on a copy of a slice from a DataFrame.\n",
            "Try using .loc[row_indexer,col_indexer] = value instead\n",
            "\n",
            "See the caveats in the documentation: https://pandas.pydata.org/pandas-docs/stable/user_guide/indexing.html#returning-a-view-versus-a-copy\n",
            "  \"\"\"Entry point for launching an IPython kernel.\n"
          ],
          "name": "stderr"
        }
      ]
    },
    {
      "cell_type": "code",
      "metadata": {
        "colab": {
          "base_uri": "https://localhost:8080/",
          "height": 443
        },
        "id": "We0E7WYq861b",
        "outputId": "53548021-927b-469b-8039-391a04887da6"
      },
      "source": [
        " data_f"
      ],
      "execution_count": null,
      "outputs": [
        {
          "output_type": "execute_result",
          "data": {
            "text/html": [
              "<div>\n",
              "<style scoped>\n",
              "    .dataframe tbody tr th:only-of-type {\n",
              "        vertical-align: middle;\n",
              "    }\n",
              "\n",
              "    .dataframe tbody tr th {\n",
              "        vertical-align: top;\n",
              "    }\n",
              "\n",
              "    .dataframe thead th {\n",
              "        text-align: right;\n",
              "    }\n",
              "</style>\n",
              "<table border=\"1\" class=\"dataframe\">\n",
              "  <thead>\n",
              "    <tr style=\"text-align: right;\">\n",
              "      <th></th>\n",
              "      <th>TEMP</th>\n",
              "      <th>DISSOLVEDOXYGEN</th>\n",
              "      <th>PH</th>\n",
              "      <th>TURBIDITY</th>\n",
              "      <th>NITRATES</th>\n",
              "      <th>COLIFORM</th>\n",
              "      <th>WQI</th>\n",
              "      <th>WQC</th>\n",
              "    </tr>\n",
              "  </thead>\n",
              "  <tbody>\n",
              "    <tr>\n",
              "      <th>0</th>\n",
              "      <td>30</td>\n",
              "      <td>8</td>\n",
              "      <td>93</td>\n",
              "      <td>76</td>\n",
              "      <td>97</td>\n",
              "      <td>63</td>\n",
              "      <td>63.951613</td>\n",
              "      <td>G</td>\n",
              "    </tr>\n",
              "    <tr>\n",
              "      <th>1</th>\n",
              "      <td>30</td>\n",
              "      <td>8</td>\n",
              "      <td>92</td>\n",
              "      <td>84</td>\n",
              "      <td>97</td>\n",
              "      <td>13</td>\n",
              "      <td>51.903226</td>\n",
              "      <td>M</td>\n",
              "    </tr>\n",
              "    <tr>\n",
              "      <th>2</th>\n",
              "      <td>30</td>\n",
              "      <td>8</td>\n",
              "      <td>90</td>\n",
              "      <td>84</td>\n",
              "      <td>97</td>\n",
              "      <td>13</td>\n",
              "      <td>51.548387</td>\n",
              "      <td>M</td>\n",
              "    </tr>\n",
              "    <tr>\n",
              "      <th>3</th>\n",
              "      <td>30</td>\n",
              "      <td>8</td>\n",
              "      <td>90</td>\n",
              "      <td>84</td>\n",
              "      <td>96</td>\n",
              "      <td>10</td>\n",
              "      <td>50.612903</td>\n",
              "      <td>M</td>\n",
              "    </tr>\n",
              "    <tr>\n",
              "      <th>4</th>\n",
              "      <td>30</td>\n",
              "      <td>8</td>\n",
              "      <td>93</td>\n",
              "      <td>84</td>\n",
              "      <td>96</td>\n",
              "      <td>13</td>\n",
              "      <td>51.919355</td>\n",
              "      <td>M</td>\n",
              "    </tr>\n",
              "    <tr>\n",
              "      <th>...</th>\n",
              "      <td>...</td>\n",
              "      <td>...</td>\n",
              "      <td>...</td>\n",
              "      <td>...</td>\n",
              "      <td>...</td>\n",
              "      <td>...</td>\n",
              "      <td>...</td>\n",
              "      <td>...</td>\n",
              "    </tr>\n",
              "    <tr>\n",
              "      <th>1896</th>\n",
              "      <td>12</td>\n",
              "      <td>8</td>\n",
              "      <td>82</td>\n",
              "      <td>84</td>\n",
              "      <td>96</td>\n",
              "      <td>53</td>\n",
              "      <td>57.387097</td>\n",
              "      <td>M</td>\n",
              "    </tr>\n",
              "    <tr>\n",
              "      <th>1897</th>\n",
              "      <td>30</td>\n",
              "      <td>8</td>\n",
              "      <td>93</td>\n",
              "      <td>84</td>\n",
              "      <td>96</td>\n",
              "      <td>37</td>\n",
              "      <td>58.112903</td>\n",
              "      <td>M</td>\n",
              "    </tr>\n",
              "    <tr>\n",
              "      <th>1898</th>\n",
              "      <td>30</td>\n",
              "      <td>8</td>\n",
              "      <td>92</td>\n",
              "      <td>84</td>\n",
              "      <td>90</td>\n",
              "      <td>27</td>\n",
              "      <td>54.387097</td>\n",
              "      <td>M</td>\n",
              "    </tr>\n",
              "    <tr>\n",
              "      <th>1899</th>\n",
              "      <td>30</td>\n",
              "      <td>8</td>\n",
              "      <td>93</td>\n",
              "      <td>84</td>\n",
              "      <td>97</td>\n",
              "      <td>27</td>\n",
              "      <td>55.693548</td>\n",
              "      <td>M</td>\n",
              "    </tr>\n",
              "    <tr>\n",
              "      <th>1900</th>\n",
              "      <td>30</td>\n",
              "      <td>8</td>\n",
              "      <td>93</td>\n",
              "      <td>84</td>\n",
              "      <td>97</td>\n",
              "      <td>22</td>\n",
              "      <td>54.403226</td>\n",
              "      <td>M</td>\n",
              "    </tr>\n",
              "  </tbody>\n",
              "</table>\n",
              "<p>1784 rows × 8 columns</p>\n",
              "</div>"
            ],
            "text/plain": [
              "      TEMP  DISSOLVEDOXYGEN  PH  TURBIDITY  NITRATES  COLIFORM        WQI WQC\n",
              "0       30                8  93         76        97        63  63.951613   G\n",
              "1       30                8  92         84        97        13  51.903226   M\n",
              "2       30                8  90         84        97        13  51.548387   M\n",
              "3       30                8  90         84        96        10  50.612903   M\n",
              "4       30                8  93         84        96        13  51.919355   M\n",
              "...    ...              ...  ..        ...       ...       ...        ...  ..\n",
              "1896    12                8  82         84        96        53  57.387097   M\n",
              "1897    30                8  93         84        96        37  58.112903   M\n",
              "1898    30                8  92         84        90        27  54.387097   M\n",
              "1899    30                8  93         84        97        27  55.693548   M\n",
              "1900    30                8  93         84        97        22  54.403226   M\n",
              "\n",
              "[1784 rows x 8 columns]"
            ]
          },
          "metadata": {
            "tags": []
          },
          "execution_count": 22
        }
      ]
    },
    {
      "cell_type": "code",
      "metadata": {
        "id": "zpHAjWwLxatE"
      },
      "source": [
        " np.savetxt('/content/drive/MyDrive/wqc_count.csv',data_f, fmt='%s')"
      ],
      "execution_count": null,
      "outputs": []
    },
    {
      "cell_type": "code",
      "metadata": {
        "colab": {
          "base_uri": "https://localhost:8080/"
        },
        "id": "eu2La3jYoJbM",
        "outputId": "2c94c9fd-f5cc-4be9-f3e6-6daae2b0d80c"
      },
      "source": [
        " data_f['BR']= data_f.WQC.apply(lambda x:(1 if (x=='G')\n",
        "                                    else(1 if (x=='EX')   \n",
        "                                                    else 0)))"
      ],
      "execution_count": null,
      "outputs": [
        {
          "output_type": "stream",
          "text": [
            "/usr/local/lib/python3.7/dist-packages/ipykernel_launcher.py:1: SettingWithCopyWarning: \n",
            "A value is trying to be set on a copy of a slice from a DataFrame.\n",
            "Try using .loc[row_indexer,col_indexer] = value instead\n",
            "\n",
            "See the caveats in the documentation: https://pandas.pydata.org/pandas-docs/stable/user_guide/indexing.html#returning-a-view-versus-a-copy\n",
            "  \"\"\"Entry point for launching an IPython kernel.\n"
          ],
          "name": "stderr"
        }
      ]
    },
    {
      "cell_type": "code",
      "metadata": {
        "colab": {
          "base_uri": "https://localhost:8080/",
          "height": 443
        },
        "id": "5QJuOYb0oQRN",
        "outputId": "dac772c7-59e0-4c32-f08c-f57b0b98aa79"
      },
      "source": [
        " data_f"
      ],
      "execution_count": null,
      "outputs": [
        {
          "output_type": "execute_result",
          "data": {
            "text/html": [
              "<div>\n",
              "<style scoped>\n",
              "    .dataframe tbody tr th:only-of-type {\n",
              "        vertical-align: middle;\n",
              "    }\n",
              "\n",
              "    .dataframe tbody tr th {\n",
              "        vertical-align: top;\n",
              "    }\n",
              "\n",
              "    .dataframe thead th {\n",
              "        text-align: right;\n",
              "    }\n",
              "</style>\n",
              "<table border=\"1\" class=\"dataframe\">\n",
              "  <thead>\n",
              "    <tr style=\"text-align: right;\">\n",
              "      <th></th>\n",
              "      <th>TEMP</th>\n",
              "      <th>DISSOLVEDOXYGEN</th>\n",
              "      <th>PH</th>\n",
              "      <th>TURBIDITY</th>\n",
              "      <th>NITRATES</th>\n",
              "      <th>COLIFORM</th>\n",
              "      <th>WQI</th>\n",
              "      <th>WQC</th>\n",
              "      <th>BR</th>\n",
              "    </tr>\n",
              "  </thead>\n",
              "  <tbody>\n",
              "    <tr>\n",
              "      <th>0</th>\n",
              "      <td>30</td>\n",
              "      <td>8</td>\n",
              "      <td>93</td>\n",
              "      <td>76</td>\n",
              "      <td>97</td>\n",
              "      <td>63</td>\n",
              "      <td>63.951613</td>\n",
              "      <td>G</td>\n",
              "      <td>1</td>\n",
              "    </tr>\n",
              "    <tr>\n",
              "      <th>1</th>\n",
              "      <td>30</td>\n",
              "      <td>8</td>\n",
              "      <td>92</td>\n",
              "      <td>84</td>\n",
              "      <td>97</td>\n",
              "      <td>13</td>\n",
              "      <td>51.903226</td>\n",
              "      <td>M</td>\n",
              "      <td>0</td>\n",
              "    </tr>\n",
              "    <tr>\n",
              "      <th>2</th>\n",
              "      <td>30</td>\n",
              "      <td>8</td>\n",
              "      <td>90</td>\n",
              "      <td>84</td>\n",
              "      <td>97</td>\n",
              "      <td>13</td>\n",
              "      <td>51.548387</td>\n",
              "      <td>M</td>\n",
              "      <td>0</td>\n",
              "    </tr>\n",
              "    <tr>\n",
              "      <th>3</th>\n",
              "      <td>30</td>\n",
              "      <td>8</td>\n",
              "      <td>90</td>\n",
              "      <td>84</td>\n",
              "      <td>96</td>\n",
              "      <td>10</td>\n",
              "      <td>50.612903</td>\n",
              "      <td>M</td>\n",
              "      <td>0</td>\n",
              "    </tr>\n",
              "    <tr>\n",
              "      <th>4</th>\n",
              "      <td>30</td>\n",
              "      <td>8</td>\n",
              "      <td>93</td>\n",
              "      <td>84</td>\n",
              "      <td>96</td>\n",
              "      <td>13</td>\n",
              "      <td>51.919355</td>\n",
              "      <td>M</td>\n",
              "      <td>0</td>\n",
              "    </tr>\n",
              "    <tr>\n",
              "      <th>...</th>\n",
              "      <td>...</td>\n",
              "      <td>...</td>\n",
              "      <td>...</td>\n",
              "      <td>...</td>\n",
              "      <td>...</td>\n",
              "      <td>...</td>\n",
              "      <td>...</td>\n",
              "      <td>...</td>\n",
              "      <td>...</td>\n",
              "    </tr>\n",
              "    <tr>\n",
              "      <th>1896</th>\n",
              "      <td>12</td>\n",
              "      <td>8</td>\n",
              "      <td>82</td>\n",
              "      <td>84</td>\n",
              "      <td>96</td>\n",
              "      <td>53</td>\n",
              "      <td>57.387097</td>\n",
              "      <td>M</td>\n",
              "      <td>0</td>\n",
              "    </tr>\n",
              "    <tr>\n",
              "      <th>1897</th>\n",
              "      <td>30</td>\n",
              "      <td>8</td>\n",
              "      <td>93</td>\n",
              "      <td>84</td>\n",
              "      <td>96</td>\n",
              "      <td>37</td>\n",
              "      <td>58.112903</td>\n",
              "      <td>M</td>\n",
              "      <td>0</td>\n",
              "    </tr>\n",
              "    <tr>\n",
              "      <th>1898</th>\n",
              "      <td>30</td>\n",
              "      <td>8</td>\n",
              "      <td>92</td>\n",
              "      <td>84</td>\n",
              "      <td>90</td>\n",
              "      <td>27</td>\n",
              "      <td>54.387097</td>\n",
              "      <td>M</td>\n",
              "      <td>0</td>\n",
              "    </tr>\n",
              "    <tr>\n",
              "      <th>1899</th>\n",
              "      <td>30</td>\n",
              "      <td>8</td>\n",
              "      <td>93</td>\n",
              "      <td>84</td>\n",
              "      <td>97</td>\n",
              "      <td>27</td>\n",
              "      <td>55.693548</td>\n",
              "      <td>M</td>\n",
              "      <td>0</td>\n",
              "    </tr>\n",
              "    <tr>\n",
              "      <th>1900</th>\n",
              "      <td>30</td>\n",
              "      <td>8</td>\n",
              "      <td>93</td>\n",
              "      <td>84</td>\n",
              "      <td>97</td>\n",
              "      <td>22</td>\n",
              "      <td>54.403226</td>\n",
              "      <td>M</td>\n",
              "      <td>0</td>\n",
              "    </tr>\n",
              "  </tbody>\n",
              "</table>\n",
              "<p>1784 rows × 9 columns</p>\n",
              "</div>"
            ],
            "text/plain": [
              "      TEMP  DISSOLVEDOXYGEN  PH  TURBIDITY  ...  COLIFORM        WQI  WQC BR\n",
              "0       30                8  93         76  ...        63  63.951613    G  1\n",
              "1       30                8  92         84  ...        13  51.903226    M  0\n",
              "2       30                8  90         84  ...        13  51.548387    M  0\n",
              "3       30                8  90         84  ...        10  50.612903    M  0\n",
              "4       30                8  93         84  ...        13  51.919355    M  0\n",
              "...    ...              ...  ..        ...  ...       ...        ...  ... ..\n",
              "1896    12                8  82         84  ...        53  57.387097    M  0\n",
              "1897    30                8  93         84  ...        37  58.112903    M  0\n",
              "1898    30                8  92         84  ...        27  54.387097    M  0\n",
              "1899    30                8  93         84  ...        27  55.693548    M  0\n",
              "1900    30                8  93         84  ...        22  54.403226    M  0\n",
              "\n",
              "[1784 rows x 9 columns]"
            ]
          },
          "metadata": {
            "tags": []
          },
          "execution_count": 35
        }
      ]
    },
    {
      "cell_type": "code",
      "metadata": {
        "id": "_x3G6fVEtCc8"
      },
      "source": [
        " import numpy as np\n",
        "import matplotlib.pyplot as plt\n",
        "import pandas as pd"
      ],
      "execution_count": null,
      "outputs": []
    },
    {
      "cell_type": "code",
      "metadata": {
        "id": "UQQ3zJyITUZs"
      },
      "source": [
        " X = data_f.iloc[:,0:6]\n",
        "y = data_f.iloc[:,8]\n",
        "#print(X)\n",
        "#print(y)"
      ],
      "execution_count": null,
      "outputs": []
    },
    {
      "cell_type": "code",
      "metadata": {
        "id": "6wEMME_4UjyR"
      },
      "source": [
        " from sklearn.model_selection import train_test_split\n",
        "X_train, X_test, y_train, y_test = train_test_split(X, y, test_size = 0.2, random_state = 0)"
      ],
      "execution_count": null,
      "outputs": []
    },
    {
      "cell_type": "code",
      "metadata": {
        "id": "sKv6mvXzUrqM"
      },
      "source": [
        " import keras\n",
        "from keras.models import Sequential\n",
        "from keras.layers import Dense"
      ],
      "execution_count": null,
      "outputs": []
    },
    {
      "cell_type": "code",
      "metadata": {
        "id": "-mRUUrePU2qn"
      },
      "source": [
        " classifier = Sequential()"
      ],
      "execution_count": null,
      "outputs": []
    },
    {
      "cell_type": "code",
      "metadata": {
        "id": "E4VwAUu-U_Yg"
      },
      "source": [
        " classifier.add(Dense(3, activation = 'relu',kernel_initializer='uniform', input_dim = 6))"
      ],
      "execution_count": null,
      "outputs": []
    },
    {
      "cell_type": "code",
      "metadata": {
        "id": "I8xux7NKW9yB"
      },
      "source": [
        " classifier.add(Dense( 3, kernel_initializer= 'uniform', activation = 'relu'))"
      ],
      "execution_count": null,
      "outputs": []
    },
    {
      "cell_type": "code",
      "metadata": {
        "id": "A833grHaXLny"
      },
      "source": [
        " classifier.add(Dense( 1, kernel_initializer= 'uniform', activation = 'sigmoid'))"
      ],
      "execution_count": null,
      "outputs": []
    },
    {
      "cell_type": "code",
      "metadata": {
        "id": "7lxMtVCQXfIZ"
      },
      "source": [
        " classifier.compile(optimizer = 'adam', loss = 'binary_crossentropy', metrics = ['accuracy'])"
      ],
      "execution_count": null,
      "outputs": []
    },
    {
      "cell_type": "code",
      "metadata": {
        "colab": {
          "base_uri": "https://localhost:8080/"
        },
        "id": "0PMMBTTdXjfO",
        "outputId": "a995ef1d-81dd-4d18-f85e-5df09ca12cbb"
      },
      "source": [
        " classifier.fit(X_train, y_train, batch_size = 10, epochs = 100)"
      ],
      "execution_count": null,
      "outputs": [
        {
          "output_type": "stream",
          "text": [
            "Epoch 1/100\n",
            "143/143 [==============================] - 11s 1ms/step - loss: 0.6442 - accuracy: 0.8143\n",
            "Epoch 2/100\n",
            "143/143 [==============================] - 0s 1ms/step - loss: 0.3855 - accuracy: 0.8786\n",
            "Epoch 3/100\n",
            "143/143 [==============================] - 0s 1ms/step - loss: 0.3817 - accuracy: 0.8734\n",
            "Epoch 4/100\n",
            "143/143 [==============================] - 0s 1ms/step - loss: 0.3295 - accuracy: 0.8905\n",
            "Epoch 5/100\n",
            "143/143 [==============================] - 0s 1ms/step - loss: 0.3209 - accuracy: 0.8858\n",
            "Epoch 6/100\n",
            "143/143 [==============================] - 0s 1ms/step - loss: 0.2994 - accuracy: 0.8831\n",
            "Epoch 7/100\n",
            "143/143 [==============================] - 0s 1ms/step - loss: 0.2431 - accuracy: 0.8919\n",
            "Epoch 8/100\n",
            "143/143 [==============================] - 0s 1ms/step - loss: 0.1931 - accuracy: 0.8943\n",
            "Epoch 9/100\n",
            "143/143 [==============================] - 0s 1ms/step - loss: 0.1827 - accuracy: 0.8870\n",
            "Epoch 10/100\n",
            "143/143 [==============================] - 0s 1ms/step - loss: 0.1597 - accuracy: 0.8941\n",
            "Epoch 11/100\n",
            "143/143 [==============================] - 0s 1ms/step - loss: 0.1450 - accuracy: 0.8954\n",
            "Epoch 12/100\n",
            "143/143 [==============================] - 0s 1ms/step - loss: 0.1479 - accuracy: 0.9001\n",
            "Epoch 13/100\n",
            "143/143 [==============================] - 0s 1ms/step - loss: 0.1532 - accuracy: 0.9363\n",
            "Epoch 14/100\n",
            "143/143 [==============================] - 0s 1ms/step - loss: 0.1437 - accuracy: 0.9440\n",
            "Epoch 15/100\n",
            "143/143 [==============================] - 0s 1ms/step - loss: 0.1409 - accuracy: 0.9401\n",
            "Epoch 16/100\n",
            "143/143 [==============================] - 0s 1ms/step - loss: 0.1432 - accuracy: 0.9370\n",
            "Epoch 17/100\n",
            "143/143 [==============================] - 0s 1ms/step - loss: 0.1325 - accuracy: 0.9501\n",
            "Epoch 18/100\n",
            "143/143 [==============================] - 0s 1ms/step - loss: 0.1277 - accuracy: 0.9492\n",
            "Epoch 19/100\n",
            "143/143 [==============================] - 0s 1ms/step - loss: 0.1254 - accuracy: 0.9454\n",
            "Epoch 20/100\n",
            "143/143 [==============================] - 0s 1ms/step - loss: 0.1223 - accuracy: 0.9490\n",
            "Epoch 21/100\n",
            "143/143 [==============================] - 0s 1ms/step - loss: 0.1155 - accuracy: 0.9596\n",
            "Epoch 22/100\n",
            "143/143 [==============================] - 0s 1ms/step - loss: 0.1297 - accuracy: 0.9446\n",
            "Epoch 23/100\n",
            "143/143 [==============================] - 0s 1ms/step - loss: 0.1230 - accuracy: 0.9473\n",
            "Epoch 24/100\n",
            "143/143 [==============================] - 0s 1ms/step - loss: 0.1206 - accuracy: 0.9654\n",
            "Epoch 25/100\n",
            "143/143 [==============================] - 0s 1ms/step - loss: 0.1159 - accuracy: 0.9587\n",
            "Epoch 26/100\n",
            "143/143 [==============================] - 0s 1ms/step - loss: 0.1274 - accuracy: 0.9420\n",
            "Epoch 27/100\n",
            "143/143 [==============================] - 0s 1ms/step - loss: 0.1030 - accuracy: 0.9682\n",
            "Epoch 28/100\n",
            "143/143 [==============================] - 0s 1ms/step - loss: 0.1156 - accuracy: 0.9524\n",
            "Epoch 29/100\n",
            "143/143 [==============================] - 0s 1ms/step - loss: 0.1380 - accuracy: 0.9445\n",
            "Epoch 30/100\n",
            "143/143 [==============================] - 0s 1ms/step - loss: 0.1161 - accuracy: 0.9596\n",
            "Epoch 31/100\n",
            "143/143 [==============================] - 0s 1ms/step - loss: 0.1252 - accuracy: 0.9492\n",
            "Epoch 32/100\n",
            "143/143 [==============================] - 0s 1ms/step - loss: 0.1110 - accuracy: 0.9582\n",
            "Epoch 33/100\n",
            "143/143 [==============================] - 0s 1ms/step - loss: 0.1090 - accuracy: 0.9586\n",
            "Epoch 34/100\n",
            "143/143 [==============================] - 0s 1ms/step - loss: 0.1108 - accuracy: 0.9530\n",
            "Epoch 35/100\n",
            "143/143 [==============================] - 0s 1ms/step - loss: 0.1093 - accuracy: 0.9586\n",
            "Epoch 36/100\n",
            "143/143 [==============================] - 0s 1ms/step - loss: 0.1088 - accuracy: 0.9558\n",
            "Epoch 37/100\n",
            "143/143 [==============================] - 0s 1ms/step - loss: 0.1079 - accuracy: 0.9589\n",
            "Epoch 38/100\n",
            "143/143 [==============================] - 0s 1ms/step - loss: 0.1018 - accuracy: 0.9639\n",
            "Epoch 39/100\n",
            "143/143 [==============================] - 0s 1ms/step - loss: 0.1087 - accuracy: 0.9574\n",
            "Epoch 40/100\n",
            "143/143 [==============================] - 0s 1ms/step - loss: 0.1207 - accuracy: 0.9545\n",
            "Epoch 41/100\n",
            "143/143 [==============================] - 0s 1ms/step - loss: 0.1046 - accuracy: 0.9605\n",
            "Epoch 42/100\n",
            "143/143 [==============================] - 0s 1ms/step - loss: 0.1172 - accuracy: 0.9565\n",
            "Epoch 43/100\n",
            "143/143 [==============================] - 0s 1ms/step - loss: 0.1101 - accuracy: 0.9602\n",
            "Epoch 44/100\n",
            "143/143 [==============================] - 0s 1ms/step - loss: 0.0871 - accuracy: 0.9699\n",
            "Epoch 45/100\n",
            "143/143 [==============================] - 0s 1ms/step - loss: 0.0997 - accuracy: 0.9630\n",
            "Epoch 46/100\n",
            "143/143 [==============================] - 0s 1ms/step - loss: 0.1099 - accuracy: 0.9517\n",
            "Epoch 47/100\n",
            "143/143 [==============================] - 0s 1ms/step - loss: 0.1123 - accuracy: 0.9520\n",
            "Epoch 48/100\n",
            "143/143 [==============================] - 0s 1ms/step - loss: 0.1110 - accuracy: 0.9549\n",
            "Epoch 49/100\n",
            "143/143 [==============================] - 0s 1ms/step - loss: 0.1145 - accuracy: 0.9573\n",
            "Epoch 50/100\n",
            "143/143 [==============================] - 0s 1ms/step - loss: 0.1112 - accuracy: 0.9574\n",
            "Epoch 51/100\n",
            "143/143 [==============================] - 0s 1ms/step - loss: 0.0918 - accuracy: 0.9632\n",
            "Epoch 52/100\n",
            "143/143 [==============================] - 0s 1ms/step - loss: 0.1219 - accuracy: 0.9554\n",
            "Epoch 53/100\n",
            "143/143 [==============================] - 0s 1ms/step - loss: 0.0982 - accuracy: 0.9650\n",
            "Epoch 54/100\n",
            "143/143 [==============================] - 0s 1ms/step - loss: 0.1077 - accuracy: 0.9567\n",
            "Epoch 55/100\n",
            "143/143 [==============================] - 0s 1ms/step - loss: 0.1096 - accuracy: 0.9585\n",
            "Epoch 56/100\n",
            "143/143 [==============================] - 0s 1ms/step - loss: 0.1057 - accuracy: 0.9628\n",
            "Epoch 57/100\n",
            "143/143 [==============================] - 0s 1ms/step - loss: 0.1094 - accuracy: 0.9544\n",
            "Epoch 58/100\n",
            "143/143 [==============================] - 0s 1ms/step - loss: 0.1047 - accuracy: 0.9600\n",
            "Epoch 59/100\n",
            "143/143 [==============================] - 0s 1ms/step - loss: 0.1037 - accuracy: 0.9578\n",
            "Epoch 60/100\n",
            "143/143 [==============================] - 0s 1ms/step - loss: 0.0989 - accuracy: 0.9642\n",
            "Epoch 61/100\n",
            "143/143 [==============================] - 0s 1ms/step - loss: 0.1023 - accuracy: 0.9599\n",
            "Epoch 62/100\n",
            "143/143 [==============================] - 0s 1ms/step - loss: 0.1062 - accuracy: 0.9631\n",
            "Epoch 63/100\n",
            "143/143 [==============================] - 0s 1ms/step - loss: 0.1099 - accuracy: 0.9548\n",
            "Epoch 64/100\n",
            "143/143 [==============================] - 0s 1ms/step - loss: 0.1071 - accuracy: 0.9573\n",
            "Epoch 65/100\n",
            "143/143 [==============================] - 0s 1ms/step - loss: 0.0872 - accuracy: 0.9693\n",
            "Epoch 66/100\n",
            "143/143 [==============================] - 0s 1ms/step - loss: 0.0900 - accuracy: 0.9684\n",
            "Epoch 67/100\n",
            "143/143 [==============================] - 0s 1ms/step - loss: 0.1027 - accuracy: 0.9601\n",
            "Epoch 68/100\n",
            "143/143 [==============================] - 0s 1ms/step - loss: 0.1050 - accuracy: 0.9543\n",
            "Epoch 69/100\n",
            "143/143 [==============================] - 0s 1ms/step - loss: 0.1123 - accuracy: 0.9501\n",
            "Epoch 70/100\n",
            "143/143 [==============================] - 0s 1ms/step - loss: 0.0891 - accuracy: 0.9640\n",
            "Epoch 71/100\n",
            "143/143 [==============================] - 0s 1ms/step - loss: 0.1093 - accuracy: 0.9563\n",
            "Epoch 72/100\n",
            "143/143 [==============================] - 0s 1ms/step - loss: 0.0958 - accuracy: 0.9681\n",
            "Epoch 73/100\n",
            "143/143 [==============================] - 0s 1ms/step - loss: 0.1018 - accuracy: 0.9610\n",
            "Epoch 74/100\n",
            "143/143 [==============================] - 0s 1ms/step - loss: 0.1317 - accuracy: 0.9407\n",
            "Epoch 75/100\n",
            "143/143 [==============================] - 0s 1ms/step - loss: 0.1094 - accuracy: 0.9559\n",
            "Epoch 76/100\n",
            "143/143 [==============================] - 0s 1ms/step - loss: 0.1009 - accuracy: 0.9658\n",
            "Epoch 77/100\n",
            "143/143 [==============================] - 0s 1ms/step - loss: 0.0921 - accuracy: 0.9693\n",
            "Epoch 78/100\n",
            "143/143 [==============================] - 0s 1ms/step - loss: 0.0981 - accuracy: 0.9646\n",
            "Epoch 79/100\n",
            "143/143 [==============================] - 0s 1ms/step - loss: 0.0975 - accuracy: 0.9621\n",
            "Epoch 80/100\n",
            "143/143 [==============================] - 0s 1ms/step - loss: 0.0994 - accuracy: 0.9609\n",
            "Epoch 81/100\n",
            "143/143 [==============================] - 0s 1ms/step - loss: 0.0897 - accuracy: 0.9669\n",
            "Epoch 82/100\n",
            "143/143 [==============================] - 0s 1ms/step - loss: 0.0936 - accuracy: 0.9656\n",
            "Epoch 83/100\n",
            "143/143 [==============================] - 0s 1ms/step - loss: 0.1078 - accuracy: 0.9582\n",
            "Epoch 84/100\n",
            "143/143 [==============================] - 0s 1ms/step - loss: 0.0994 - accuracy: 0.9629\n",
            "Epoch 85/100\n",
            "143/143 [==============================] - 0s 1ms/step - loss: 0.0859 - accuracy: 0.9693\n",
            "Epoch 86/100\n",
            "143/143 [==============================] - 0s 1ms/step - loss: 0.1176 - accuracy: 0.9549\n",
            "Epoch 87/100\n",
            "143/143 [==============================] - 0s 1ms/step - loss: 0.1115 - accuracy: 0.9610\n",
            "Epoch 88/100\n",
            "143/143 [==============================] - 0s 1ms/step - loss: 0.0967 - accuracy: 0.9649\n",
            "Epoch 89/100\n",
            "143/143 [==============================] - 0s 1ms/step - loss: 0.0947 - accuracy: 0.9663\n",
            "Epoch 90/100\n",
            "143/143 [==============================] - 0s 1ms/step - loss: 0.0898 - accuracy: 0.9682\n",
            "Epoch 91/100\n",
            "143/143 [==============================] - 0s 1ms/step - loss: 0.0896 - accuracy: 0.9688\n",
            "Epoch 92/100\n",
            "143/143 [==============================] - 0s 1ms/step - loss: 0.1001 - accuracy: 0.9663\n",
            "Epoch 93/100\n",
            "143/143 [==============================] - 0s 1ms/step - loss: 0.1007 - accuracy: 0.9562\n",
            "Epoch 94/100\n",
            "143/143 [==============================] - 0s 1ms/step - loss: 0.0870 - accuracy: 0.9699\n",
            "Epoch 95/100\n",
            "143/143 [==============================] - 0s 1ms/step - loss: 0.0791 - accuracy: 0.9733\n",
            "Epoch 96/100\n",
            "143/143 [==============================] - 0s 1ms/step - loss: 0.0983 - accuracy: 0.9624\n",
            "Epoch 97/100\n",
            "143/143 [==============================] - 0s 1ms/step - loss: 0.1148 - accuracy: 0.9609\n",
            "Epoch 98/100\n",
            "143/143 [==============================] - 0s 1ms/step - loss: 0.0957 - accuracy: 0.9650\n",
            "Epoch 99/100\n",
            "143/143 [==============================] - 0s 1ms/step - loss: 0.1045 - accuracy: 0.9600\n",
            "Epoch 100/100\n",
            "143/143 [==============================] - 0s 1ms/step - loss: 0.0947 - accuracy: 0.9644\n"
          ],
          "name": "stdout"
        },
        {
          "output_type": "execute_result",
          "data": {
            "text/plain": [
              "<keras.callbacks.History at 0x7f919a370550>"
            ]
          },
          "metadata": {
            "tags": []
          },
          "execution_count": 75
        }
      ]
    },
    {
      "cell_type": "code",
      "metadata": {
        "id": "kMvuHTCaZMZk"
      },
      "source": [
        " y_pred = classifier.predict(X_test)\n",
        "y_pred = (y_pred > 0.5)"
      ],
      "execution_count": null,
      "outputs": []
    },
    {
      "cell_type": "code",
      "metadata": {
        "colab": {
          "base_uri": "https://localhost:8080/"
        },
        "id": "-sFtmiIwY1p8",
        "outputId": "83fadf7f-0943-444e-b3c2-498627dc527d"
      },
      "source": [
        " from sklearn.metrics import confusion_matrix, accuracy_score\n",
        "cm = confusion_matrix(y_test, y_pred)\n",
        "print(cm)\n",
        "accuracy_score(y_test,y_pred)"
      ],
      "execution_count": null,
      "outputs": [
        {
          "output_type": "stream",
          "text": [
            "[[305   6]\n",
            " [  9  37]]\n"
          ],
          "name": "stdout"
        },
        {
          "output_type": "execute_result",
          "data": {
            "text/plain": [
              "0.957983193277311"
            ]
          },
          "metadata": {
            "tags": []
          },
          "execution_count": 80
        }
      ]
    },
    {
      "cell_type": "code",
      "metadata": {
        "colab": {
          "base_uri": "https://localhost:8080/"
        },
        "id": "tsdm0eUhgaJP",
        "outputId": "10ece931-0426-45a4-8286-4667301849b2"
      },
      "source": [
        " \n",
        "#train accuracy\n",
        "_,accuracy=classifier.evaluate(X_train,y_train)\n",
        "print(accuracy)"
      ],
      "execution_count": null,
      "outputs": [
        {
          "output_type": "stream",
          "text": [
            "45/45 [==============================] - 0s 1ms/step - loss: 0.0962 - accuracy: 0.9636\n",
            "0.9635599255561829\n"
          ],
          "name": "stdout"
        }
      ]
    },
    {
      "cell_type": "code",
      "metadata": {
        "colab": {
          "base_uri": "https://localhost:8080/"
        },
        "id": "3eaombXlg8ED",
        "outputId": "5b3f84e7-1064-4bc7-a2cd-0323bee1fb35"
      },
      "source": [
        "#test accuracy\n",
        "from sklearn.metrics import accuracy_score\n",
        "y_pred=classifier.predict_classes(X_test)\n",
        "accuracy_score(y_test,y_pred)"
      ],
      "execution_count": null,
      "outputs": [
        {
          "output_type": "stream",
          "text": [
            "/usr/local/lib/python3.7/dist-packages/keras/engine/sequential.py:450: UserWarning: `model.predict_classes()` is deprecated and will be removed after 2021-01-01. Please use instead:* `np.argmax(model.predict(x), axis=-1)`,   if your model does multi-class classification   (e.g. if it uses a `softmax` last-layer activation).* `(model.predict(x) > 0.5).astype(\"int32\")`,   if your model does binary classification   (e.g. if it uses a `sigmoid` last-layer activation).\n",
            "  warnings.warn('`model.predict_classes()` is deprecated and '\n"
          ],
          "name": "stderr"
        },
        {
          "output_type": "execute_result",
          "data": {
            "text/plain": [
              "0.957983193277311"
            ]
          },
          "metadata": {
            "tags": []
          },
          "execution_count": 88
        }
      ]
    }
  ]
}